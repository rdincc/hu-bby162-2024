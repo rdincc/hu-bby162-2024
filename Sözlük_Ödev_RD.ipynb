{
  "cells": [
    {
      "cell_type": "markdown",
      "metadata": {
        "id": "view-in-github",
        "colab_type": "text"
      },
      "source": [
        "<a href=\"https://colab.research.google.com/github/rdincc/hu-bby162-2024/blob/main/S%C3%B6zl%C3%BCk_%C3%96dev_RD.ipynb\" target=\"_parent\"><img src=\"https://colab.research.google.com/assets/colab-badge.svg\" alt=\"Open In Colab\"/></a>"
      ]
    },
    {
      "cell_type": "code",
      "execution_count": null,
      "metadata": {
        "id": "zCxwnqKCFH72"
      },
      "outputs": [],
      "source": [
        "#sözlük oluşturma\n",
        "sözlük= {\"at\":\"atgillerden,binme,yük çekme,taşıma vb. hizmetlerde kullanılan hayvan\",\n",
        "         \"muhabere\":\"haberleşme,yazışma\",\n",
        "         \"dekalitre\":\"on litre hacminde bir ölçü birimi\",\n",
        "         \"bedbin\":\"her şeye olumsuz bakan kimse\",\n",
        "         \"intibak\":\"çevreye ya da durumlara uyma,uyum gösterme\",\n",
        "         \"lümpen\":\"toplumsal sınıf bilinci olmayan\",\n",
        "         \"merci\":\"başvurulacak yer, mekan \",\n",
        "         \"tekmil\": \"bütün,eksiksiz\",\n",
        "         \"maruf\":\" herkes tarafından bilinen,tanınan\",\n",
        "         \"panorama\": \"genel görünüm\"}"
      ]
    },
    {
      "cell_type": "code",
      "execution_count": null,
      "metadata": {
        "id": "nWxoO7XhO2_0"
      },
      "outputs": [],
      "source": [
        "#sözlük yazdırma\n",
        "print(sözlük)"
      ]
    },
    {
      "cell_type": "code",
      "execution_count": null,
      "metadata": {
        "id": "teyAXrPVO3k6"
      },
      "outputs": [],
      "source": [
        "#sözlüğe yeni bir anahtar eklenmesi\n",
        "yeniSözcük=input(\"yeni sözcük giriniz\")\n",
        "yeniSözcükAçıklaması= input(\"yeni sözcük için açıklama giriniz\")\n",
        "sözlük[yeniSözcük]= yeniSözcükAçıklaması\n",
        "print(sözlük)"
      ]
    },
    {
      "cell_type": "code",
      "execution_count": null,
      "metadata": {
        "id": "y8E0trR9PNGv"
      },
      "outputs": [],
      "source": [
        "#sözlükten anahtar silinmesi\n",
        "print(sözlük)\n",
        "silinecekSözcük=int(input(\"silinecek sözcüğün numarasını giriniz:\"))\n",
        "print(\"silinecek sözcük: \" + list(sözlük.keys())[silinecekSözcük-1])\n",
        "del sözlük[list(sözlük.keys())[silinecekSözcük-1]]\n",
        "print(\"silme işlemi başarılı\")\n",
        "print(sözlük)\n",
        "\n"
      ]
    },
    {
      "cell_type": "code",
      "execution_count": null,
      "metadata": {
        "id": "Ua7uS1bwx_K8"
      },
      "outputs": [],
      "source": [
        "\n",
        "#sözlüğe anahtar kelime güncellenmesi\n",
        "print(sözlük)\n",
        "güncellenecekSözcük=int(input(\"güncellenecek sözcüğün numarasını giriniz: \"))\n",
        "print(\"güncellenecek sözcük: \"+ list(sözlük.keys())[güncellenecekSözcük-1])\n",
        "del sözlük[list(sözlük.keys())[güncellenecekSözcük-1]]\n",
        "sözlük[input(\"yeni sözcüğü yazınız: \")]=input(\"yeni sözcüğün anlamını yazınız: \")\n",
        "print(sözlük)\n"
      ]
    },
    {
      "cell_type": "code",
      "source": [
        "#sözlükte arama yapılması\n",
        "print(sözlük)\n",
        "keys = input(\"aradığınız sözcüğü giriniz: \")\n",
        "if sözcükAra.lower() in sözlük:\n",
        " print(\"açıklama: \" + sözlük[keys])\n",
        "else:\n",
        " print (\"böyle bir sözcük bulunamadı!\")\n"
      ],
      "metadata": {
        "id": "S4AZTFsiHcdH"
      },
      "execution_count": null,
      "outputs": []
    }
  ],
  "metadata": {
    "colab": {
      "provenance": [],
      "authorship_tag": "ABX9TyPpXVmXfs8x2iiPYlCSwR2m",
      "include_colab_link": true
    },
    "kernelspec": {
      "display_name": "Python 3",
      "name": "python3"
    },
    "language_info": {
      "name": "python"
    }
  },
  "nbformat": 4,
  "nbformat_minor": 0
}